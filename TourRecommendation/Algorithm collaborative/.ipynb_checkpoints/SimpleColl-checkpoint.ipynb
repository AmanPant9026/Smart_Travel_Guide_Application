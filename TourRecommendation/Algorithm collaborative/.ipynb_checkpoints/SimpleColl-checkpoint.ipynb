{
 "cells": [
  {
   "cell_type": "code",
   "execution_count": 3,
   "id": "25362b27",
   "metadata": {},
   "outputs": [
    {
     "name": "stderr",
     "output_type": "stream",
     "text": [
      "C:\\Users\\Studio Pc-1\\.conda\\envs\\NewEnv\\lib\\site-packages\\IPython\\core\\interactiveshell.py:3437: FutureWarning: The error_bad_lines argument has been deprecated and will be removed in a future version.\n",
      "\n",
      "\n",
      "  exec(code_obj, self.user_global_ns, self.user_ns)\n"
     ]
    },
    {
     "ename": "NameError",
     "evalue": "name 'df' is not defined",
     "output_type": "error",
     "traceback": [
      "\u001b[1;31m---------------------------------------------------------------------------\u001b[0m",
      "\u001b[1;31mNameError\u001b[0m                                 Traceback (most recent call last)",
      "\u001b[1;32m<ipython-input-3-708e8cb19409>\u001b[0m in \u001b[0;36m<module>\u001b[1;34m\u001b[0m\n\u001b[0;32m      2\u001b[0m \u001b[1;32mimport\u001b[0m \u001b[0mpandas\u001b[0m \u001b[1;32mas\u001b[0m \u001b[0mpd\u001b[0m\u001b[1;33m\u001b[0m\u001b[1;33m\u001b[0m\u001b[0m\n\u001b[0;32m      3\u001b[0m \u001b[0mdf1\u001b[0m\u001b[1;33m=\u001b[0m\u001b[0mpd\u001b[0m\u001b[1;33m.\u001b[0m\u001b[0mread_csv\u001b[0m\u001b[1;33m(\u001b[0m\u001b[1;34m'ratings.csv'\u001b[0m\u001b[1;33m,\u001b[0m\u001b[0msep\u001b[0m\u001b[1;33m=\u001b[0m\u001b[1;34m','\u001b[0m\u001b[1;33m,\u001b[0m\u001b[0merror_bad_lines\u001b[0m\u001b[1;33m=\u001b[0m\u001b[1;32mFalse\u001b[0m\u001b[1;33m)\u001b[0m\u001b[1;33m\u001b[0m\u001b[1;33m\u001b[0m\u001b[0m\n\u001b[1;32m----> 4\u001b[1;33m \u001b[0mdf1\u001b[0m \u001b[1;33m=\u001b[0m \u001b[0mdf\u001b[0m\u001b[1;33m.\u001b[0m\u001b[0mcopy\u001b[0m\u001b[1;33m(\u001b[0m\u001b[1;33m)\u001b[0m\u001b[1;33m\u001b[0m\u001b[1;33m\u001b[0m\u001b[0m\n\u001b[0m\u001b[0;32m      5\u001b[0m \u001b[1;33m\u001b[0m\u001b[0m\n\u001b[0;32m      6\u001b[0m \u001b[1;31m# find the nearest neighbors using NearestNeighbors(n_neighbors=3)\u001b[0m\u001b[1;33m\u001b[0m\u001b[1;33m\u001b[0m\u001b[1;33m\u001b[0m\u001b[0m\n",
      "\u001b[1;31mNameError\u001b[0m: name 'df' is not defined"
     ]
    }
   ],
   "source": [
    "# copy df\n",
    "import pandas as pd\n",
    "df=pd.read_csv('ratings.csv',sep=',',error_bad_lines=False)\n",
    "df1 = df.copy()\n",
    "\n",
    "# find the nearest neighbors using NearestNeighbors(n_neighbors=3)\n",
    "number_neighbors = 3\n",
    "knn = NearestNeighbors(metric='cosine', algorithm='brute')\n",
    "knn.fit(df.values)\n",
    "distances, indices = knn.kneighbors(df.values, n_neighbors=number_neighbors)\n",
    "\n",
    "# convert user_name to user_index\n",
    "user_index = df.columns.tolist().index('user_4')\n",
    "\n",
    "# t: movie_title, m: the row number of t in df\n",
    "for m,t in list(enumerate(df.index)):\n",
    "  \n",
    "  # find movies without ratings by user_4\n",
    "  if df.iloc[m, user_index] == 0:\n",
    "    sim_movies = indices[m].tolist()\n",
    "    movie_distances = distances[m].tolist()\n",
    "    \n",
    "    # Generally, this is the case: indices[3] = [3 6 7]. The movie itself is in the first place.\n",
    "    # In this case, we take off 3 from the list. Then, indices[3] == [6 7] to have the nearest NEIGHBORS in the list. \n",
    "    if m in sim_movies:\n",
    "      id_movie = sim_movies.index(m)\n",
    "      sim_movies.remove(m)\n",
    "      movie_distances.pop(id_movie) \n",
    "\n",
    "    # However, if the percentage of ratings in the dataset is very low, there are too many 0s in the dataset. \n",
    "    # Some movies have all 0 ratings and the movies with all 0s are considered the same movies by NearestNeighbors(). \n",
    "    # Then,even the movie itself cannot be included in the indices. \n",
    "    # For example, indices[3] = [2 4 7] is possible if movie_2, movie_3, movie_4, and movie_7 have all 0s for their ratings.\n",
    "    # In that case, we take off the farthest movie in the list. Therefore, 7 is taken off from the list, then indices[3] == [2 4].\n",
    "    else:\n",
    "      sim_movies = sim_movies[:n_neighbors-1]\n",
    "      movie_distances = movie_distances[:n_neighbors-1]\n",
    "        \n",
    "    # movie_similarty = 1 - movie_distance    \n",
    "    movie_similarity = [1-x for x in movie_distances]\n",
    "    movie_similarity_copy = movie_similarity.copy()\n",
    "    nominator = 0\n",
    "\n",
    "    # for each similar movie\n",
    "    for s in range(0, len(movie_similarity)):\n",
    "      \n",
    "      # check if the rating of a similar movie is zero\n",
    "      if df.iloc[sim_movies[s], user_index] == 0:\n",
    "\n",
    "        # if the rating is zero, ignore the rating and the similarity in calculating the predicted rating\n",
    "        if len(movie_similarity_copy) == (number_neighbors - 1):\n",
    "          movie_similarity_copy.pop(s)\n",
    "          \n",
    "        else:\n",
    "          movie_similarity_copy.pop(s-(len(movie_similarity)-len(movie_similarity_copy)))\n",
    "\n",
    "      # if the rating is not zero, use the rating and similarity in the calculation\n",
    "      else:\n",
    "        nominator = nominator + movie_similarity[s]*df.iloc[sim_movies[s],user_index]\n",
    "\n",
    "    # check if the number of the ratings with non-zero is positive\n",
    "    if len(movie_similarity_copy) > 0:\n",
    "      \n",
    "      # check if the sum of the ratings of the similar movies is positive.\n",
    "      if sum(movie_similarity_copy) > 0:\n",
    "        predicted_r = nominator/sum(movie_similarity_copy)\n",
    "\n",
    "      # Even if there are some movies for which the ratings are positive, some movies have zero similarity even though they are selected as similar movies.\n",
    "      # in this case, the predicted rating becomes zero as well  \n",
    "      else:\n",
    "        predicted_r = 0\n",
    "\n",
    "    # if all the ratings of the similar movies are zero, then predicted rating should be zero\n",
    "    else:\n",
    "      predicted_r = 0\n",
    "\n",
    "  # place the predicted rating into the copy of the original dataset\n",
    "    df1.iloc[m,user_index] = predicted_r"
   ]
  },
  {
   "cell_type": "code",
   "execution_count": null,
   "id": "155f9f5d",
   "metadata": {},
   "outputs": [],
   "source": []
  }
 ],
 "metadata": {
  "kernelspec": {
   "display_name": "Python 3",
   "language": "python",
   "name": "python3"
  },
  "language_info": {
   "codemirror_mode": {
    "name": "ipython",
    "version": 3
   },
   "file_extension": ".py",
   "mimetype": "text/x-python",
   "name": "python",
   "nbconvert_exporter": "python",
   "pygments_lexer": "ipython3",
   "version": "3.8.10"
  }
 },
 "nbformat": 4,
 "nbformat_minor": 5
}
