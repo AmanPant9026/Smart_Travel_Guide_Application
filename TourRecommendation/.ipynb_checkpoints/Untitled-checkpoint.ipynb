{
 "cells": [
  {
   "cell_type": "code",
   "execution_count": 28,
   "metadata": {},
   "outputs": [],
   "source": [
    "dd = [(1, 'jehan_numa.png', 'Sujata hotel', 4.1, '1234567895', '2-star', 'Asarori', 'Asarori'), (10, 'jehan_numa.png', 'Taj hotel', 4.3, '7894561235', '4-star', 'Asthal', 'Asthal'), (9, 'jehan_numa.png', 'New welcome hotel', 4.4, '7894561325', '5-star', 'Bajhet', 'Bajhet'), (8, 'jehan_numa.png', 'Rostera hotel', 4.5, '4215789465', '5-star', 'Johari', 'Johari'), (7, 'jehan_numa.png', 'Anmol hotel', 4.8, '4215789653', '3-star', 'Daiswala', 'Daiswala'), (6, 'jehan_numa.png', 'Shrikant hotel', 4.1, '7894563214', '5-star', 'Dudhali', 'Dudhali'), (5, 'jehan_numa.png', 'Welcome hotel', 4.9, '1245789632', '4-star', 'Badripur', 'Badripur'), (4, 'jehan_numa.png', 'KFC hotel', 4.8, '4789562514', '5-star', 'Doiwala', 'Doiwala'), (3, 'sayaji.png', 'Neelyog hotel', 4.6, '4785963258', '3-star', 'Banvtha', 'Banvtha'), (2, 'marriott.png', 'Radha krisna hotel', 4.7, '4578956324', '5-star', 'Chalang', 'Chalang')]"
   ]
  },
  {
   "cell_type": "code",
   "execution_count": 29,
   "metadata": {},
   "outputs": [
    {
     "name": "stdout",
     "output_type": "stream",
     "text": [
      "<class 'list'>\n"
     ]
    }
   ],
   "source": [
    "print(type(dd))"
   ]
  },
  {
   "cell_type": "code",
   "execution_count": 30,
   "metadata": {},
   "outputs": [],
   "source": [
    "Output = sorted(dd, key = lambda x:float(x[3]))"
   ]
  },
  {
   "cell_type": "code",
   "execution_count": 31,
   "metadata": {},
   "outputs": [],
   "source": [
    "new_list = Output[::-1]"
   ]
  },
  {
   "cell_type": "code",
   "execution_count": 33,
   "metadata": {},
   "outputs": [
    {
     "name": "stdout",
     "output_type": "stream",
     "text": [
      "((1, 'van_vihar.png', 'Van Vihar National Park', 4.8, 'Sizable Parkland with wild animals', '6:30am - 6:30pm', '1245879632', 'Van Vihar National Park, Shymala Hills, Bhopal, Madhya Pradesh', 'koparkhairane'), (2, 'bhojtal.png', 'Bhojtal', 4.9, 'Upper Lake', '6:30am - 6:30pm', '78964513257', 'Bhojtal, Madhya Pradesh', 'ghansoli'))\n",
      "HHHHHHHHHHHHHH\n",
      "((3, 'taj_mahal.png', 'Taj Mahal Palace', 4.7, 'Architecture, history, and palace', '6:30am - 6:30pm', '7245189435', 'Taj Mahal Palace, Kohefiza, Bhopal, Madhya Pradesh 462001', 'rabale'), (4, 'bhojtal.png', 'Bhojtal', 4.6, 'Upper Lake', '6:30am - 6:30pm', '12457849568', 'Bhojtal, Madhya Pradesh', 'juinagar'), (5, 'van_vihar.png', 'Bhojtal', 4.5, 'Architecture, history, and palace', '6:30am - 6:30pm', '124578965', 'Van Vihar National Park, Shymala Hills, Bhopal, Madhya Pradesh', 'turbhe'), (6, 'taj_mahal.png', 'Taj Mahal Palace', 4.3, 'Upper Lake', '6:30am - 6:30pm', '1245785926', 'Taj Mahal Palace, Kohefiza, Bhopal, Madhya Pradesh 462001', 'Airoli'))\n"
     ]
    }
   ],
   "source": [
    "import pymysql\n",
    "def dbConnection():\n",
    "    try:\n",
    "        connection = pymysql.connect(host=\"localhost\", user=\"root\", password=\"root\", database=\"tour_recommendation\")\n",
    "        return connection\n",
    "    except Exception as e:\n",
    "        print(e)\n",
    "        print(\"Something went wrong in database Connection\")\n",
    "\n",
    "def dbClose():\n",
    "    try:\n",
    "        dbConnection().close()\n",
    "    except:\n",
    "        print(\"Something went wrong in Close DB Connection\")\n",
    "\n",
    "con = dbConnection()\n",
    "cursor = con.cursor()\n",
    "\n",
    "cursor.execute('SELECT * FROM place_db WHERE rating > 4.8')\n",
    "row = cursor.fetchall()\n",
    "print(row)\n",
    "print(\"HHHHHHHHHHHHHH\")\n",
    "cursor.execute('SELECT * FROM place_db WHERE rating < 4.8')\n",
    "row1 = cursor.fetchall()\n",
    "print(row1)"
   ]
  },
  {
   "cell_type": "code",
   "execution_count": null,
   "metadata": {},
   "outputs": [],
   "source": []
  },
  {
   "cell_type": "code",
   "execution_count": null,
   "metadata": {},
   "outputs": [],
   "source": []
  }
 ],
 "metadata": {
  "kernelspec": {
   "display_name": "Python 3",
   "language": "python",
   "name": "python3"
  },
  "language_info": {
   "codemirror_mode": {
    "name": "ipython",
    "version": 3
   },
   "file_extension": ".py",
   "mimetype": "text/x-python",
   "name": "python",
   "nbconvert_exporter": "python",
   "pygments_lexer": "ipython3",
   "version": "3.7.6"
  }
 },
 "nbformat": 4,
 "nbformat_minor": 5
}
